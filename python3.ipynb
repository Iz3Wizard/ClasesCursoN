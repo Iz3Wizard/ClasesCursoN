{
 "cells": [
  {
   "cell_type": "code",
   "execution_count": 2,
   "metadata": {},
   "outputs": [
    {
     "name": "stdout",
     "output_type": "stream",
     "text": [
      "Empate\n"
     ]
    }
   ],
   "source": [
    "##Piedra papel o tijera\n",
    "\n",
    "# ingreso de datos\n",
    "player_1 = input('Jugador 1: ')\n",
    "player_2 = input('Jugador 2: ')\n",
    "\n",
    "opt_player_1 = input(\"Opcion jugador 1\")\n",
    "opt_player_2 = input(\"Opcion jugador 1\")\n",
    "\n",
    "\n",
    "# escenario 1:\n",
    "# Player 1: piedra | Player 2: tijeras\n",
    "# Gana p1\n",
    "# Player 1: piedra | Player 2: papel\n",
    "# Gana p2\n",
    "if opt_player_1 == opt_player_2:\n",
    "    print(f'Empate con {opt_player_1}')\n",
    "\n",
    "elif (opt_player_1 == \"piedra\") and (opt_player_2 == \"tijeras\") :\n",
    "    print(f\"Gana {player_1} con opt {opt_player_1} \")\n",
    "\n",
    "elif (opt_player_1 == \"piedra\") and (opt_player_2 == \"papel\") :\n",
    "    print(f\"Gana {player_2} \")\n",
    "\n",
    "elif (opt_player_1 == \"papel\") and (opt_player_2 == \"piedra\") :\n",
    "    print(f\"Gana {player_1} con opt {opt_player_1} \")\n",
    "\n",
    "elif (opt_player_1 == \"papel\") and (opt_player_2 == \"tijeras\") :\n",
    "    print(f\"Gana {player_2} \")\n",
    "\n",
    "elif (opt_player_1 == \"tijeras\") and (opt_player_2 == \"piedra\") :\n",
    "    print(f\"Gana {player_1} con opt {opt_player_1} \")\n",
    "\n",
    "\n",
    "elif (opt_player_1 == \"piedra\") and (opt_player_2 == \"tijeras\") :\n",
    "    print(f\"Gana {player_2} \")\n",
    "\n",
    "else:\n",
    "    print(\"Ingrese un valor calidoo\")\n",
    "# escenario 2:\n",
    "# Player 1: papel | Player 2: piedra\n",
    "# Gana p1\n",
    "#En caso contrario gana p2\n",
    "\n",
    "# escenario 3:\n",
    "# Player 1: tijeras | Player 2: papel\n",
    "# Gana p1\n",
    "#En caso contrario gana p2\n",
    "\n",
    "# escenario 4:\n",
    "# Seleccion de player 1 =  seleccion player 2: \n",
    "# Empate\n",
    "#En caso contrario gana p2\n",
    "\n"
   ]
  }
 ],
 "metadata": {
  "kernelspec": {
   "display_name": "Python 3",
   "language": "python",
   "name": "python3"
  },
  "language_info": {
   "codemirror_mode": {
    "name": "ipython",
    "version": 3
   },
   "file_extension": ".py",
   "mimetype": "text/x-python",
   "name": "python",
   "nbconvert_exporter": "python",
   "pygments_lexer": "ipython3",
   "version": "3.12.1"
  }
 },
 "nbformat": 4,
 "nbformat_minor": 2
}
