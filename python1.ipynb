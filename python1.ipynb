{
  "nbformat": 4,
  "nbformat_minor": 0,
  "metadata": {
    "colab": {
      "provenance": []
    },
    "kernelspec": {
      "name": "python3",
      "display_name": "Python 3"
    },
    "language_info": {
      "name": "python"
    }
  },
  "cells": [
    {
      "cell_type": "markdown",
      "source": [
        "# Clase 1 de python\n",
        "### Fundamentos\n",
        "* Variables\n",
        "* Sintaxis basica\n",
        "* Condicionales\n",
        "* Operadores de comparacion\n",
        "* Operadores logicos"
      ],
      "metadata": {
        "id": "fCTMExu4uqr5"
      }
    },
    {
      "cell_type": "code",
      "execution_count": 1,
      "metadata": {
        "colab": {
          "base_uri": "https://localhost:8080/"
        },
        "id": "RAxE2scPtkG3",
        "outputId": "0d0ff50f-abbb-4ef2-a583-8e6b0e6ba85c"
      },
      "outputs": [
        {
          "output_type": "execute_result",
          "data": {
            "text/plain": [
              "4"
            ]
          },
          "metadata": {},
          "execution_count": 1
        }
      ],
      "source": [
        "# operaciones matemáticas básicas\n",
        "# suma\n",
        "2+23\n",
        "# resta\n",
        "90 - 56\n"
      ]
    },
    {
      "cell_type": "code",
      "source": [
        "# multiplicación\n",
        "34 * 2"
      ],
      "metadata": {
        "id": "rBk1a8wIvrSc"
      },
      "execution_count": null,
      "outputs": []
    },
    {
      "cell_type": "code",
      "source": [
        "( 2 + 2 ) + 3 * ( 3 + 1 )"
      ],
      "metadata": {
        "id": "2pZ0dAEYv-4T"
      },
      "execution_count": null,
      "outputs": []
    },
    {
      "cell_type": "code",
      "source": [
        "#división\n",
        "50 / 10"
      ],
      "metadata": {
        "id": "mWFWjix3wppQ"
      },
      "execution_count": null,
      "outputs": []
    },
    {
      "cell_type": "code",
      "source": [
        "# variables\n",
        "number_a = 2\n",
        "number_b = 3\n",
        "result = number_a + number_b\n",
        "\n",
        "print(result)"
      ],
      "metadata": {
        "id": "obAetBAyw2i2"
      },
      "execution_count": null,
      "outputs": []
    },
    {
      "cell_type": "code",
      "source": [
        "number_c = 12.33"
      ],
      "metadata": {
        "id": "a-4uieF3zJ_j"
      },
      "execution_count": null,
      "outputs": []
    },
    {
      "cell_type": "code",
      "source": [
        "name = \"Josefino\""
      ],
      "metadata": {
        "id": "sxkuPbJqzbWU"
      },
      "execution_count": null,
      "outputs": []
    },
    {
      "cell_type": "code",
      "source": [
        "type(number_c)\n"
      ],
      "metadata": {
        "colab": {
          "base_uri": "https://localhost:8080/",
          "height": 193
        },
        "id": "Afzh1nRkyC89",
        "outputId": "b07a2e04-d2cc-4867-b591-b650095f239a"
      },
      "execution_count": 9,
      "outputs": [
        {
          "output_type": "error",
          "ename": "NameError",
          "evalue": "name 'number_c' is not defined",
          "traceback": [
            "\u001b[0;31m---------------------------------------------------------------------------\u001b[0m",
            "\u001b[0;31mNameError\u001b[0m                                 Traceback (most recent call last)",
            "\u001b[0;32m<ipython-input-9-cb308093df9f>\u001b[0m in \u001b[0;36m<cell line: 1>\u001b[0;34m()\u001b[0m\n\u001b[0;32m----> 1\u001b[0;31m \u001b[0mtype\u001b[0m\u001b[0;34m(\u001b[0m\u001b[0mnumber_c\u001b[0m\u001b[0;34m)\u001b[0m\u001b[0;34m\u001b[0m\u001b[0;34m\u001b[0m\u001b[0m\n\u001b[0m\u001b[1;32m      2\u001b[0m \u001b[0mtype\u001b[0m\u001b[0;34m(\u001b[0m\u001b[0mname\u001b[0m\u001b[0;34m)\u001b[0m\u001b[0;34m\u001b[0m\u001b[0;34m\u001b[0m\u001b[0m\n",
            "\u001b[0;31mNameError\u001b[0m: name 'number_c' is not defined"
          ]
        }
      ]
    },
    {
      "cell_type": "code",
      "source": [
        "type(name)"
      ],
      "metadata": {
        "id": "VKOJc1WS2chX"
      },
      "execution_count": null,
      "outputs": []
    },
    {
      "cell_type": "code",
      "source": [
        "last_name = \"primera\""
      ],
      "metadata": {
        "id": "4lYtaPDAznEW"
      },
      "execution_count": null,
      "outputs": []
    },
    {
      "cell_type": "markdown",
      "source": [
        "### Estructuras de control\n",
        "* Condicionales\n",
        "  - Simples\n",
        "  - Anidados\n",
        "  - Encadenados\n",
        "\n",
        "* Ciclos finitos\n",
        "* Ciclos infinitos\n",
        "* Funciones\n"
      ],
      "metadata": {
        "id": "YCN6DBck0Bg2"
      }
    },
    {
      "cell_type": "markdown",
      "source": [
        "# operadores de comparación\n",
        "* \">\" mayor que\n",
        "-\"<\" menor que\n",
        "-\"==\" igual a\n",
        "-\">=\" mayor igual\n",
        "-\"<=\" menor igual\n",
        "-\"!=\" diferente da"
      ],
      "metadata": {
        "id": "-K5NOsXi1dmk"
      }
    },
    {
      "cell_type": "code",
      "source": [
        "# condicionales\n",
        "if number_a > 1:\n",
        "  print(\"El numero a es mayor a 1\")\n"
      ],
      "metadata": {
        "id": "pmh6kK3D2TaF"
      },
      "execution_count": null,
      "outputs": []
    },
    {
      "cell_type": "code",
      "source": [
        "# condicionales\n",
        "if number_a > 1:\n",
        "  print(f\"El numero {number_a} a es mayor a 1\")\n"
      ],
      "metadata": {
        "id": "hp3vtoPI3XPP"
      },
      "execution_count": null,
      "outputs": []
    },
    {
      "cell_type": "code",
      "source": [
        "number_a = 0"
      ],
      "metadata": {
        "id": "xKpHewxO4JFT"
      },
      "execution_count": null,
      "outputs": []
    },
    {
      "cell_type": "code",
      "source": [
        "# condicionales\n",
        "if number_a > 1:\n",
        "  print(f\"El numero {number_a} a es mayor a 1\")\n",
        "  else\n",
        "  print(f\"El numero {number_a} a es menor a 1\")"
      ],
      "metadata": {
        "id": "ev6UqUaw4ZSr"
      },
      "execution_count": null,
      "outputs": []
    }
  ]
}