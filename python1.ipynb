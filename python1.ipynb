{
  "cells": [
    {
      "cell_type": "markdown",
      "metadata": {
        "id": "fCTMExu4uqr5"
      },
      "source": [
        "# Clase 1 de python\n",
        "### Fundamentos\n",
        "* Variables\n",
        "* Sintaxis basica\n",
        "* Condicionales\n",
        "* Operadores de comparacion\n",
        "* Operadores logicos"
      ]
    },
    {
      "cell_type": "code",
      "execution_count": 1,
      "metadata": {
        "colab": {
          "base_uri": "https://localhost:8080/"
        },
        "id": "RAxE2scPtkG3",
        "outputId": "0d0ff50f-abbb-4ef2-a583-8e6b0e6ba85c"
      },
      "outputs": [
        {
          "data": {
            "text/plain": [
              "4"
            ]
          },
          "execution_count": 1,
          "metadata": {},
          "output_type": "execute_result"
        }
      ],
      "source": [
        "# operaciones matemáticas básicas\n",
        "# suma\n",
        "2+23\n",
        "# resta\n",
        "90 - 56\n"
      ]
    },
    {
      "cell_type": "code",
      "execution_count": null,
      "metadata": {
        "id": "rBk1a8wIvrSc"
      },
      "outputs": [],
      "source": [
        "# multiplicación\n",
        "34 * 2"
      ]
    },
    {
      "cell_type": "code",
      "execution_count": null,
      "metadata": {
        "id": "2pZ0dAEYv-4T"
      },
      "outputs": [],
      "source": [
        "( 2 + 2 ) + 3 * ( 3 + 1 )"
      ]
    },
    {
      "cell_type": "code",
      "execution_count": null,
      "metadata": {
        "id": "mWFWjix3wppQ"
      },
      "outputs": [],
      "source": [
        "#división\n",
        "50 / 10"
      ]
    },
    {
      "cell_type": "code",
      "execution_count": null,
      "metadata": {
        "id": "obAetBAyw2i2"
      },
      "outputs": [],
      "source": [
        "# variables\n",
        "number_a = 2\n",
        "number_b = 3\n",
        "result = number_a + number_b\n",
        "\n",
        "print(result)"
      ]
    },
    {
      "cell_type": "code",
      "execution_count": null,
      "metadata": {
        "id": "a-4uieF3zJ_j"
      },
      "outputs": [],
      "source": [
        "number_c = 12.33"
      ]
    },
    {
      "cell_type": "code",
      "execution_count": null,
      "metadata": {
        "id": "sxkuPbJqzbWU"
      },
      "outputs": [],
      "source": [
        "name = \"Josefino\""
      ]
    },
    {
      "cell_type": "code",
      "execution_count": 9,
      "metadata": {
        "colab": {
          "base_uri": "https://localhost:8080/",
          "height": 193
        },
        "id": "Afzh1nRkyC89",
        "outputId": "b07a2e04-d2cc-4867-b591-b650095f239a"
      },
      "outputs": [
        {
          "ename": "NameError",
          "evalue": "name 'number_c' is not defined",
          "output_type": "error",
          "traceback": [
            "\u001b[0;31m---------------------------------------------------------------------------\u001b[0m",
            "\u001b[0;31mNameError\u001b[0m                                 Traceback (most recent call last)",
            "\u001b[0;32m<ipython-input-9-cb308093df9f>\u001b[0m in \u001b[0;36m<cell line: 1>\u001b[0;34m()\u001b[0m\n\u001b[0;32m----> 1\u001b[0;31m \u001b[0mtype\u001b[0m\u001b[0;34m(\u001b[0m\u001b[0mnumber_c\u001b[0m\u001b[0;34m)\u001b[0m\u001b[0;34m\u001b[0m\u001b[0;34m\u001b[0m\u001b[0m\n\u001b[0m\u001b[1;32m      2\u001b[0m \u001b[0mtype\u001b[0m\u001b[0;34m(\u001b[0m\u001b[0mname\u001b[0m\u001b[0;34m)\u001b[0m\u001b[0;34m\u001b[0m\u001b[0;34m\u001b[0m\u001b[0m\n",
            "\u001b[0;31mNameError\u001b[0m: name 'number_c' is not defined"
          ]
        }
      ],
      "source": [
        "type(number_c)\n"
      ]
    },
    {
      "cell_type": "code",
      "execution_count": null,
      "metadata": {
        "id": "VKOJc1WS2chX"
      },
      "outputs": [],
      "source": [
        "type(name)"
      ]
    },
    {
      "cell_type": "code",
      "execution_count": null,
      "metadata": {
        "id": "4lYtaPDAznEW"
      },
      "outputs": [],
      "source": [
        "last_name = \"primera\""
      ]
    },
    {
      "cell_type": "markdown",
      "metadata": {
        "id": "YCN6DBck0Bg2"
      },
      "source": [
        "### Estructuras de control\n",
        "* Condicionales\n",
        "  - Simples\n",
        "  - Anidados\n",
        "  - Encadenados\n",
        "\n",
        "* Ciclos finitos\n",
        "* Ciclos infinitos\n",
        "* Funciones\n"
      ]
    },
    {
      "cell_type": "markdown",
      "metadata": {
        "id": "-K5NOsXi1dmk"
      },
      "source": [
        "# operadores de comparación\n",
        "* \">\" mayor que\n",
        "-\"<\" menor que\n",
        "-\"==\" igual a\n",
        "-\">=\" mayor igual\n",
        "-\"<=\" menor igual\n",
        "-\"!=\" diferente da"
      ]
    },
    {
      "cell_type": "code",
      "execution_count": null,
      "metadata": {
        "id": "pmh6kK3D2TaF"
      },
      "outputs": [],
      "source": [
        "# condicionales\n",
        "if number_a > 1:\n",
        "  print(\"El numero a es mayor a 1\")\n"
      ]
    },
    {
      "cell_type": "code",
      "execution_count": null,
      "metadata": {
        "id": "hp3vtoPI3XPP"
      },
      "outputs": [],
      "source": [
        "# condicionales\n",
        "if number_a > 1:\n",
        "  print(f\"El numero {number_a} a es mayor a 1\")\n"
      ]
    },
    {
      "cell_type": "code",
      "execution_count": null,
      "metadata": {
        "id": "xKpHewxO4JFT"
      },
      "outputs": [],
      "source": [
        "number_a = 0"
      ]
    },
    {
      "cell_type": "code",
      "execution_count": null,
      "metadata": {
        "id": "ev6UqUaw4ZSr"
      },
      "outputs": [],
      "source": [
        "# condicionales\n",
        "if number_a > 1:\n",
        "  print(f\"El numero {number_a} a es mayor a 1\")\n",
        "else:\n",
        "  print(f\"El numero {number_a} a es menor a 1\")"
      ]
    }
  ],
  "metadata": {
    "colab": {
      "provenance": []
    },
    "kernelspec": {
      "display_name": "Python 3",
      "name": "python3"
    },
    "language_info": {
      "name": "python"
    }
  },
  "nbformat": 4,
  "nbformat_minor": 0
}
